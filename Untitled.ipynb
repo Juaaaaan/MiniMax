{
 "cells": [
  {
   "cell_type": "code",
   "execution_count": null,
   "metadata": {
    "collapsed": true
   },
   "outputs": [],
   "source": [
    "#Librerias\n",
    "import matplotlib as plt \n",
    "import numpy as np\n",
    "import pandas as pd"
   ]
  },
  {
   "cell_type": "code",
   "execution_count": null,
   "metadata": {
    "collapsed": true
   },
   "outputs": [],
   "source": [
    "def isfloat(value):\n",
    "    try:\n",
    "        float(value)\n",
    "        return True\n",
    "    except ValueError:\n",
    "        return False"
   ]
  },
  {
   "cell_type": "code",
   "execution_count": null,
   "metadata": {},
   "outputs": [],
   "source": [
    "#¿CUANTAS FICHAS QUIERES?\n",
    "print('Elija el número de fichas')\n",
    "pilaFichas = input()\n",
    "print(\"------------------\")\n",
    "print('FICHAS TOTALES: ', pilaFichas)"
   ]
  },
  {
   "cell_type": "code",
   "execution_count": null,
   "metadata": {
    "scrolled": true
   },
   "outputs": [],
   "source": [
    "#VALIDACIÓN PARA VER QUE SE HAN INTRODUCIDO BIEN LOS DATOS\n",
    "    #SE PROCEDE A INTRODUCIR QUIEN EMPIEZA\n",
    "print(\"Introduzca quien empieza, ¿Humano? o ¿Maquina?\")\n",
    "entradaUsuario = input()\n",
    "entradaUsuario = entradaUsuario.upper()\n",
    "if(entradaUsuario.isdigit() == False and isfloat(entradaUsuario) == False or entradaUsuario == 'HUMANO' \n",
    "   or entradaUsuario == 'MAQUINA'):\n",
    "    if(entradaUsuario == 'HUMANO'):\n",
    "        maxMin = entradaUsuario\n",
    "        minMax = 'MAQUINA'\n",
    "        print(\"------\")\n",
    "        print('Nodo MAX:', maxMin, 'Nodo MIN:', minMax)\n",
    "    elif(entradaUsuario == 'MAQUINA'):\n",
    "        minMax = entradaUsuario\n",
    "        maxMin = 'HUMANO' \n",
    "        print(\"--------\")\n",
    "        print('Nodo MAX:', minMax, 'Nodo MIN:', maxMin)\n",
    "if(entradaUsuario.isdigit() == True):\n",
    "    print(\"Introduzca quien empieza, ¿Humano? o ¿Maquina?\")\n",
    "    entradaUsuario = input()\n",
    "    entradaUsuario = entradaUsuario.upper()\n",
    "    if(entradaUsuario == 'HUMANO'):\n",
    "        maxMin = entradaUsuario\n",
    "        minMax = 'MAQUINA'\n",
    "        print(\"------\")\n",
    "        print('Nodo MAX:', maxMin, 'Nodo MIN:', minMax)\n",
    "    elif(entradaUsuario == 'MAQUINA'):\n",
    "        minMax = entradaUsuario\n",
    "        maxMin = 'HUMANO' \n",
    "        print(\"--------\")\n",
    "        print('Nodo MAX:', minMax, 'Nodo MIN:', maxMin)"
   ]
  },
  {
   "cell_type": "code",
   "execution_count": null,
   "metadata": {
    "collapsed": true
   },
   "outputs": [],
   "source": [
    "#ALGORITMO MINIMAX\n",
    "\n",
    "def minimax(game_state):\n",
    "    moves = game_state.get_available_moves()\n",
    "    best_move = moves[0]\n",
    "    best_score = float('-inf')\n",
    "    for move in moves:\n",
    "        clone = game_state.next_state(move)\n",
    "        score = min_play(clone)\n",
    "        if score > best_score:\n",
    "            best_move = move\n",
    "            best_score = score\n",
    "return best_move"
   ]
  },
  {
   "cell_type": "code",
   "execution_count": null,
   "metadata": {
    "collapsed": true
   },
   "outputs": [],
   "source": [
    "#AQUI HAY QUE METER LO QUE SON LAS FUNCIONES game_state"
   ]
  },
  {
   "cell_type": "code",
   "execution_count": null,
   "metadata": {
    "collapsed": true
   },
   "outputs": [],
   "source": [
    "#MAX y MIN\n",
    "\n",
    "def minimax(game_state):\n",
    "    return max(map(lambda move: (move, min_play(game_state.next_state(move))), \n",
    "                   game_state.get_available_moves()), key = lambda x: x[1])\n",
    "\n",
    "def min_play(game_state):\n",
    "    if game_state.is_gameover():\n",
    "        return evaluate(game_state)\n",
    "    return min(map(lambda move: max_play(game_state.next_state(move)),game_state.get_available_moves()))\n",
    "\n",
    "def max_play(game_state):\n",
    "    if game_state.is_gameover():\n",
    "        return evaluate(game_state)\n",
    "    return max(map(lambda move: min_play(game_state.next_state(move)),game_state.get_available_moves()))\n",
    "\n",
    "\n",
    "\n"
   ]
  }
 ],
 "metadata": {
  "kernelspec": {
   "display_name": "Python 3",
   "language": "python",
   "name": "python3"
  },
  "language_info": {
   "codemirror_mode": {
    "name": "ipython",
    "version": 3
   },
   "file_extension": ".py",
   "mimetype": "text/x-python",
   "name": "python",
   "nbconvert_exporter": "python",
   "pygments_lexer": "ipython3",
   "version": "3.6.3"
  }
 },
 "nbformat": 4,
 "nbformat_minor": 2
}
